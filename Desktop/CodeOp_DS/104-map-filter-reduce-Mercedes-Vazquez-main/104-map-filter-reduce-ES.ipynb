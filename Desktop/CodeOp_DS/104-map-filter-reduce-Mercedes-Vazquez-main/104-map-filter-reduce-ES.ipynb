{
 "cells": [
  {
   "cell_type": "markdown",
   "id": "3f6133a6-4392-48d5-b429-061e4ccd20f9",
   "metadata": {},
   "source": [
    "<h2> Map </h2>"
   ]
  },
  {
   "cell_type": "markdown",
   "id": "2f404435-655d-422a-8c10-465422dd0338",
   "metadata": {},
   "source": [
    "#### 1 - Lista de listas\n",
    "\n",
    "A continuación tienes una lista de (5) listas de números. Crea una lista nueva donde los elementos sean la suma de los números de cada lista dentro de la lista. Utiliza las funciones `sum` y `map`."
   ]
  },
  {
   "cell_type": "code",
   "execution_count": null,
   "id": "e04c85ae-706e-4508-86e3-a916079176e9",
   "metadata": {},
   "outputs": [],
   "source": [
    "number_lists = [[-5, 3.2, 94], [12.1, -8, 0], [46, -0.12], [1,2,3], [-9.9]]\n",
    "\n",
    "# escribe tu código aquí"
   ]
  },
  {
   "cell_type": "markdown",
   "id": "ee1db615-4b3b-48ce-b0a6-2482bdd477ba",
   "metadata": {
    "tags": []
   },
   "source": [
    "#### 2 - Cuadrados\n",
    "\n",
    "Define una función llamada `square_element` que reciba un elemento de entrada y devuelva su cuadrado, siempre y cuando este elemento sea de tipo `int` o `float`. En caso contrario, devuelve el elemento sin modificar. Usa la función `map` para transformar la lista que tienes a continuación con la función `square_element` que acabas de crear."
   ]
  },
  {
   "cell_type": "code",
   "execution_count": null,
   "id": "e0f64579-d664-47d7-8471-42b1d64a84d6",
   "metadata": {},
   "outputs": [],
   "source": [
    "heterogeneous_list = [5, 2.21, 'hi', False, 6.89, 0.25, '9',\n",
    "                      3, True, None, 6, [1,2], 4.1, 9]\n",
    "\n",
    "# escribe tu código aquí"
   ]
  },
  {
   "cell_type": "markdown",
   "id": "c4041137-7eb3-49ad-ad13-2699a363cfd9",
   "metadata": {
    "tags": []
   },
   "source": [
    "#### 3 - Detectando Mayúsculas\n",
    "\n",
    "Define una función llamada `label_upper` que reciba como valor de entrada una string. Si todos los caracteres de esa string son mayúsculas, añade la letra *Y* mayúscula seguida de un espacio, un guión y otro espacio al principio de la string: `'Y - '`. En caso contrario, añade la letra *N* mayúscula seguida de un espacio, un guión y otro espacio al principio: `'N - '`. Usa el método `.isupper()` de las strings. A continuación, aplica la función a la lista siguiente usando `map` para etiquetar los elementos de la lista."
   ]
  },
  {
   "cell_type": "code",
   "execution_count": null,
   "id": "2f483036-2bba-4079-9def-5034ddd6a5f3",
   "metadata": {},
   "outputs": [],
   "source": [
    "string_list = ['bonsai', 'BON JAN', 'BonSAi', 'BonaSA', 'BONANÇA', 'o no', 'YOKO']\n",
    "\n",
    "# escribe tu código aquí"
   ]
  },
  {
   "cell_type": "markdown",
   "id": "8b687376-a397-44e7-b175-f959c56d4e63",
   "metadata": {},
   "source": [
    "<h2> Filter </h2>"
   ]
  },
  {
   "cell_type": "markdown",
   "id": "038cbce7-9f39-441f-b370-242de3e35f99",
   "metadata": {},
   "source": [
    "#### 1 - Strings cortas\n",
    "\n",
    "De la siguiente lista, quédate solo con las strings que tengan una longitud $<=3$. Define una función `is_short` que compruebe si la longitud de una string es $<=3$ y usala con la función `filter`."
   ]
  },
  {
   "cell_type": "code",
   "execution_count": null,
   "id": "c652b3f7-fd00-41b9-88d8-646b43cf3b3c",
   "metadata": {},
   "outputs": [],
   "source": [
    "my_strings = ['Pep', 'Pepita', 'pop', 'papa', 'pollastre',\n",
    "              'picnic', 'pic', 'palplantat', 'pap', 'atzucac']\n",
    "\n",
    "# escribe tu código aquí"
   ]
  },
  {
   "cell_type": "markdown",
   "id": "e6d52400-2bcf-4aca-a874-fcc797cfbb95",
   "metadata": {},
   "source": [
    "#### 2 - Donde estan los Nones?\n",
    "\n",
    "A continuación tienes una lista de listas. Algunas de las listas dentro de la lista contienen elementos **None** y otras no. Filtra las listas en las que haya algun **None** y quédate solo con las que no tengan ninguno. Define una función llamada `without_none` que reciba de entrada una lista y compruebe si hay algun **None** con el operador `in` y usala junto con `filter` para eliminar las listas con **None**s."
   ]
  },
  {
   "cell_type": "code",
   "execution_count": null,
   "id": "31c1c573-d09d-463a-80f7-8c91c3037c9b",
   "metadata": {},
   "outputs": [],
   "source": [
    "lists_nones = [['eh', True, False], [0, -1], [None, None],\n",
    "               [0.1, None, [7]], ['Very', 'Good!']]\n",
    "\n",
    "# escribe tu código aquí"
   ]
  },
  {
   "cell_type": "markdown",
   "id": "dfe8040d-555e-4c32-87c7-9ce3420476c2",
   "metadata": {},
   "source": [
    "#### 3 - No linealidad\n",
    "\n",
    "Filtra los elementos de la lista que tienes a continuación y quédate solo con los que cumplan la siguiente condición: $2x^3-5x+4>4$, donde $x$ son los elementos de la lista. Define una funciómn llamada `greater_than_cubic` y usala con `filter`."
   ]
  },
  {
   "cell_type": "code",
   "execution_count": null,
   "id": "2789a877-af2c-4b31-beec-c0ec1b0d437e",
   "metadata": {},
   "outputs": [],
   "source": [
    "list_of_numbers = [-1, 2.1, 0.5, -3, 0, -0.1, 0.9, 3, -4]\n",
    "\n",
    "# escribe tu código aquí"
   ]
  },
  {
   "cell_type": "markdown",
   "id": "c36b0aab-3178-433f-ab84-542273b00349",
   "metadata": {},
   "source": [
    "<h2> Reduce </h2>"
   ]
  },
  {
   "cell_type": "markdown",
   "id": "e65e7f4b-539f-47da-a8db-d582b06ab817",
   "metadata": {},
   "source": [
    "####  1 - Factorial\n",
    "\n",
    "Usa las funciones `range` y `reduce` para calcular $12!$. Define una función llamada `multiply` que reciba dos números de entrada, los multiplique y te devuelva el resultado."
   ]
  },
  {
   "cell_type": "code",
   "execution_count": null,
   "id": "237a713d-ba98-47a9-9dce-05cc8a696073",
   "metadata": {},
   "outputs": [],
   "source": [
    "from functools import reduce\n",
    "\n",
    "# escribe tu código aquí"
   ]
  },
  {
   "cell_type": "markdown",
   "id": "38d14bff-5e15-4f58-88ea-cfff28e4e969",
   "metadata": {},
   "source": [
    "#### 2 - Concatenación de strings\n",
    "\n",
    "Usa la función `reduce` para juntar las siguientes strings en una única string:"
   ]
  },
  {
   "cell_type": "code",
   "execution_count": null,
   "id": "08035720-ab08-463f-9bc3-e0979f5683f3",
   "metadata": {},
   "outputs": [],
   "source": [
    "statement = ['Python ', 'programming ', 'language ', 'is ', 'well ', 'made']\n",
    "\n",
    "# escribe tu código aquí"
   ]
  },
  {
   "cell_type": "markdown",
   "id": "0034f6d0-ec6f-424f-a4d4-42e46fa2d202",
   "metadata": {},
   "source": [
    "**Bonus:** usa el método `.join()` de las strings para obtener el mismo resultado."
   ]
  },
  {
   "cell_type": "markdown",
   "id": "59d8f0e5-17e0-4752-ac3b-546dcb1fdf70",
   "metadata": {},
   "source": [
    "#### 3 - Son todos adultos?\n",
    "\n",
    "Define una función llamada `is_adult` que reciba dos valores de entrada: un acumulador (tipo `bool`) y una edad (tipo `int` o `float`). Define una segunda función llamada `are_all_adults` que use la función anterior junto con `reduce` y que tenga como valor de entrada una lista de números. La función `are_all_adults` debe devolver `True` si todos los números de la lista son $>=18$ y `False` en caso contrario. Tomando de ejemplo las dos listas que tienes a continuación como valores de entrada, la primera deberia devolver `False` y la segunda `True`.\n",
    "\n",
    "*pista: el 3r argumento de `reduce` determina el valor inicial del acumulador.*"
   ]
  },
  {
   "cell_type": "code",
   "execution_count": null,
   "id": "af610c47-0192-4610-b022-127cc9a4236f",
   "metadata": {},
   "outputs": [],
   "source": [
    "list_of_ages_1 = [20, 32, 12, 2, 98, 40, 16, 8]\n",
    "list_of_ages_2 = [20, 32, 19, 22, 98, 40, 116, 80]\n",
    "\n",
    "# escribe tu código aquí"
   ]
  },
  {
   "cell_type": "markdown",
   "id": "a1f46fe7-0bb5-46cc-96f7-3c4175cc560c",
   "metadata": {},
   "source": [
    "<h2> Map + Filter </h2>"
   ]
  },
  {
   "cell_type": "markdown",
   "id": "1ed1ca3f-5dfc-4e0c-9265-3d86028aa90f",
   "metadata": {
    "tags": []
   },
   "source": [
    "#### BONG!\n",
    "\n",
    "Elimina los elementos que sean `False` de la lista siguiente y convierte todos los `None` en strings que sean \n",
    "```python\n",
    "'BONG!'\n",
    "```\n",
    "Usa las funciones `map` y `filter`."
   ]
  },
  {
   "cell_type": "code",
   "execution_count": null,
   "id": "a949b3f3-a22c-4d14-82ed-e72208cc3f36",
   "metadata": {},
   "outputs": [],
   "source": [
    "my_list = [12, None, True, False, None, 'ding', False,\n",
    "           '-0.1', None, 0, 'Tinc', False, None]\n",
    "\n",
    "# escribe tu código aquí"
   ]
  },
  {
   "cell_type": "markdown",
   "id": "17d14d4b-caab-4403-91e5-7c0788f1650f",
   "metadata": {
    "tags": []
   },
   "source": [
    "<h2> Map + Reduce </h2>"
   ]
  },
  {
   "cell_type": "markdown",
   "id": "1e411f26-634e-47e2-aa24-e0035266b8c3",
   "metadata": {
    "tags": []
   },
   "source": [
    "#### Cuanto vale *abcd*?\n",
    "Multiplica el valor ASCII de cada caracter de la string `abcd` y guarda el resultado en una variable. Imprime esta variable. Qué número obtienes? Usa las funciones `ord`, `map`, `reduce` y la función multiply que has definido en el ejercicio **factorial**."
   ]
  },
  {
   "cell_type": "code",
   "execution_count": null,
   "id": "2722dbe5-ed1b-4b67-a9a4-b829f9f01ab5",
   "metadata": {},
   "outputs": [],
   "source": [
    "abcd = 'abcd'\n",
    "\n",
    "# escribe tu código aquí"
   ]
  },
  {
   "cell_type": "markdown",
   "id": "1d7ec197-84b6-4615-895c-3b504aa2b5e9",
   "metadata": {
    "tags": []
   },
   "source": [
    "<h2> Filter + Reduce </h2>"
   ]
  },
  {
   "cell_type": "markdown",
   "id": "c895dc65-e8f1-428e-9ac4-89ff2b1cf3a3",
   "metadata": {
    "tags": []
   },
   "source": [
    "#### String más llarga\n",
    "\n",
    "Define una función llamada `longest_string` que reciba como valor de entrada una lista. Los elementos de esa lista pueden ser de cualquier tipo. `longest_string` debe devolver la string más larga de la lista. En caso de que la lista de entrada no tenga ninguna string, `longest_string` debe devolver una string vacía (`''`). Usa las funciones `filter` y `reduce`."
   ]
  },
  {
   "cell_type": "code",
   "execution_count": null,
   "id": "bea2b52d-e61d-4cbe-873d-445c6110be7d",
   "metadata": {},
   "outputs": [],
   "source": [
    "my_list_1 = ['sumstring', 4, None, 'aaa', 'Siyahamba', 'queno',\n",
    "            'Mitochondria', True, 'llapis', 1.2, 'oh', 'com']\n",
    "my_list_2 = [1, 1, 1, 1, 0, 0, 0, 10, 11]\n",
    "\n",
    "# escribe tu código aquí"
   ]
  },
  {
   "cell_type": "markdown",
   "id": "71396518-dcf5-4e23-8e19-ac0b7839ee8d",
   "metadata": {},
   "source": [
    "<h3> Extra (opcional, para practicar) </h3>\n",
    "\n",
    "- Añade typing a las funciones que has definido\n",
    "- Soluciona todos los ejercicios anteriores usando list comprehension"
   ]
  }
 ],
 "metadata": {
  "kernelspec": {
   "display_name": "Python 3 (ipykernel)",
   "language": "python",
   "name": "python3"
  },
  "language_info": {
   "codemirror_mode": {
    "name": "ipython",
    "version": 3
   },
   "file_extension": ".py",
   "mimetype": "text/x-python",
   "name": "python",
   "nbconvert_exporter": "python",
   "pygments_lexer": "ipython3",
   "version": "3.8.10"
  }
 },
 "nbformat": 4,
 "nbformat_minor": 5
}
