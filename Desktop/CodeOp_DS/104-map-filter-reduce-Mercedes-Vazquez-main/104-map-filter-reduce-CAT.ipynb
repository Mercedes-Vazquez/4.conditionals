{
 "cells": [
  {
   "cell_type": "markdown",
   "id": "3f6133a6-4392-48d5-b429-061e4ccd20f9",
   "metadata": {
    "tags": []
   },
   "source": [
    "<h2> Map </h2>"
   ]
  },
  {
   "cell_type": "markdown",
   "id": "e3f05d46-6012-401e-a660-11b904248cf3",
   "metadata": {},
   "source": [
    "#### 1 - Llista de llistes\n",
    "A continuació tens una llista de (5) llistes de números. Crea una llista nova on els elements siguin la suma dels números de cada llista dins la llista. Fes servir les funcions `sum` i `map`."
   ]
  },
  {
   "cell_type": "code",
   "execution_count": null,
   "id": "e04c85ae-706e-4508-86e3-a916079176e9",
   "metadata": {},
   "outputs": [],
   "source": [
    "number_lists = [[-5, 3.2, 94], [12.1, -8, 0], [46, -0.12], [1,2,3], [-9.9]]\n",
    "\n",
    "# escriu el teu codi aquí"
   ]
  },
  {
   "cell_type": "markdown",
   "id": "27f53950-4c8d-4d6c-95ea-8433756c4e97",
   "metadata": {},
   "source": [
    "#### 2 - Quadrats\n",
    "Defineix una funció anomenada `square_element` que rebi un element d'entrada i retorni el seu quadrat, sempre que aquest element sigui de tipus `int` o `float`. En cas contrari, retorna l'element sense modificar. Fes servir la funció `map` per transformar la llista que tens a continuació amb la funció `square_element` que acabes de crear."
   ]
  },
  {
   "cell_type": "code",
   "execution_count": null,
   "id": "e0f64579-d664-47d7-8471-42b1d64a84d6",
   "metadata": {},
   "outputs": [],
   "source": [
    "heterogeneous_list = [5, 2.21, 'hi', False, 6.89, 0.25, '9',\n",
    "                      3, True, None, 6, [1,2], 4.1, 9]\n",
    "\n",
    "# escriu el teu codi aquí"
   ]
  },
  {
   "cell_type": "markdown",
   "id": "5de71296-7afe-4b78-85b8-bd7146bd98aa",
   "metadata": {
    "tags": []
   },
   "source": [
    "#### 3 - Detectant Majúscules\n",
    "\n",
    "Defineix una funció anomenada `label_upper` que rebi de valor d'entrada una string. Si tots els caràcters d'aquesta string són majúscula, afegeix la lletra *Y* majúscula seguida d'un espai, un guió i un altre espai al principi de la string: `'Y - '`. En cas contrari, afegeix la lletra *N* majúscula seguida d'un espai, un guió i un altre espai al principi: `'N - '`. Fes servir el mètode `.isupper()` de les strings. A continuació, aplica la funció a la llista següent fent servir `map` per etiquetar els elements de la llista."
   ]
  },
  {
   "cell_type": "code",
   "execution_count": null,
   "id": "2f483036-2bba-4079-9def-5034ddd6a5f3",
   "metadata": {},
   "outputs": [],
   "source": [
    "string_list = ['bonsai', 'BON JAN', 'BonSAi',\n",
    "               'BonaSA', 'BONANÇA', 'o no', 'YOKO']\n",
    "\n",
    "# escriu el teu codi aquí"
   ]
  },
  {
   "cell_type": "markdown",
   "id": "8b687376-a397-44e7-b175-f959c56d4e63",
   "metadata": {},
   "source": [
    "<h2> Filter </h2>"
   ]
  },
  {
   "cell_type": "markdown",
   "id": "733e4c79-7839-4e6c-baf3-62caa911c899",
   "metadata": {},
   "source": [
    "#### 1 - Strings curtes\n",
    "\n",
    "De la llista següent, queda't només amb les strings que tinguin una longitud $<=3$. Defineix una funció `is_short` que comprovi que la longitud d'una string és $<=3$ i utilitza-la juntament amb la funció `filter`."
   ]
  },
  {
   "cell_type": "code",
   "execution_count": null,
   "id": "c652b3f7-fd00-41b9-88d8-646b43cf3b3c",
   "metadata": {},
   "outputs": [],
   "source": [
    "my_strings = ['Pep', 'Pepita', 'pop', 'papa', 'pollastre',\n",
    "              'picnic', 'pic', 'palplantat', 'pap', 'atzucac']\n",
    "\n",
    "# escriu el teu codi aquí"
   ]
  },
  {
   "cell_type": "markdown",
   "id": "5402f4d3-6f69-46d6-bee7-e8ac26368b34",
   "metadata": {},
   "source": [
    "#### 2 - On són els Nones?\n",
    "\n",
    "A continuació tens una llista de llistes. Algunes de les llistes dins la llista contenen elements **None** i d'altres no. Filtra les llistes que continguin algun **None** de manera que et quedis només amb les que no en tenen. Defineix una funció anomenada `without_none` que rebi d'entrada una llista i comprovi si hi ha algun **None** fent servir l'operador `in` i utilitza-la juntament amb `filter` per eliminar les llistes amb **None**s."
   ]
  },
  {
   "cell_type": "code",
   "execution_count": null,
   "id": "31c1c573-d09d-463a-80f7-8c91c3037c9b",
   "metadata": {},
   "outputs": [],
   "source": [
    "lists_nones = [['eh', True, False], [0, -1], [None, None],\n",
    "               [0.1, None, [7]], ['Very', 'Good!']]\n",
    "\n",
    "# escriu el teu codi aquí"
   ]
  },
  {
   "cell_type": "markdown",
   "id": "61aa22c1-1e27-4484-a228-24fb8863e08b",
   "metadata": {},
   "source": [
    "#### 3 - No linealitat\n",
    "\n",
    "Filtra els elements de la llista a continuació de manera que només et quedis amb els que compleixin la condició següent: $2x^3-5x+4>4$, on $x$ són els elements de la llista. Defineix una funció anomenada `greater_than_cubic` i fes-la servir juntament amb `filter`."
   ]
  },
  {
   "cell_type": "code",
   "execution_count": null,
   "id": "2789a877-af2c-4b31-beec-c0ec1b0d437e",
   "metadata": {},
   "outputs": [],
   "source": [
    "list_of_numbers = [-1, 2.1, 0.5, -3, 0, -0.1, 0.9, 3, -4]\n",
    "\n",
    "# escriu el codi aquí"
   ]
  },
  {
   "cell_type": "markdown",
   "id": "c36b0aab-3178-433f-ab84-542273b00349",
   "metadata": {},
   "source": [
    "<h2> Reduce </h2>"
   ]
  },
  {
   "cell_type": "markdown",
   "id": "7ac10734-cf2b-4aa3-9121-0542b3ca40b0",
   "metadata": {},
   "source": [
    "####  1 - Factorial\n",
    "\n",
    "Fes servir les funcions `range` i `reduce` per calcular $12!$. Defineix una funció anomenada `multiply` que rebi dos números d'entrada, els multipliqui i et retorni el resultat."
   ]
  },
  {
   "cell_type": "code",
   "execution_count": null,
   "id": "237a713d-ba98-47a9-9dce-05cc8a696073",
   "metadata": {},
   "outputs": [],
   "source": [
    "from functools import reduce\n",
    "\n",
    "# escriu el teu codi aquí"
   ]
  },
  {
   "cell_type": "markdown",
   "id": "a1307c56-fb31-4ac7-9fe9-2a473125638e",
   "metadata": {},
   "source": [
    "#### 2 - Concatenació de strings\n",
    "\n",
    "Fes servir la funció `reduce` per ajuntar les strings següents en una única string:"
   ]
  },
  {
   "cell_type": "code",
   "execution_count": null,
   "id": "08035720-ab08-463f-9bc3-e0979f5683f3",
   "metadata": {},
   "outputs": [],
   "source": [
    "statement = ['Python ', 'programming ', 'language ', 'is ', 'well ', 'made']\n",
    "\n",
    "# escriu el teu codi aquí"
   ]
  },
  {
   "cell_type": "markdown",
   "id": "0034f6d0-ec6f-424f-a4d4-42e46fa2d202",
   "metadata": {},
   "source": [
    "**Bonus:** fes servir el mètode `.join()` de les strings per obtenir el mateix resultat."
   ]
  },
  {
   "cell_type": "markdown",
   "id": "39388f8c-935d-425e-99fc-46a34d614300",
   "metadata": {},
   "source": [
    "#### 3 - Són tots adults?\n",
    "\n",
    "Defineix una funció anomenada `is_adult` que rebi dos valors d'entrada: un acumulador (tipus `bool`) i una edat (tipus `int` o `float`). Defineix una segona funció anomenada `are_all_adults` que faci ús de la funció anterior juntament amb `reduce` i que tingui com a valor d'entrada una llista de números. La funció `are_all_adults` ha de retornar `True` si tots els números de la llista són $>=18$ i `False` en cas contrari. Prenent d'exemple les dues llistes que tens a continuació com a valors d'entrada, la primera hauria de retornar `False` i la segona `True`.\n",
    "\n",
    "*pista: el 3r argument de `reduce` determina el valor inicial de l'acumulador.*"
   ]
  },
  {
   "cell_type": "code",
   "execution_count": null,
   "id": "af610c47-0192-4610-b022-127cc9a4236f",
   "metadata": {},
   "outputs": [],
   "source": [
    "list_of_ages_1 = [20, 32, 12, 2, 98, 40, 16, 8]\n",
    "list_of_ages_2 = [20, 32, 19, 22, 98, 40, 116, 80]\n",
    "\n",
    "# escriu el teu codi aquí"
   ]
  },
  {
   "cell_type": "markdown",
   "id": "a1f46fe7-0bb5-46cc-96f7-3c4175cc560c",
   "metadata": {},
   "source": [
    "<h2> Map + Filter </h2>"
   ]
  },
  {
   "cell_type": "markdown",
   "id": "a6883b47-3aad-4da7-af80-49d2d8efcdef",
   "metadata": {
    "tags": []
   },
   "source": [
    "#### BONG!\n",
    "\n",
    "Elimina els elements que siguin `False` de la llista següent i converteix tots els `None` en strings que siguin \n",
    "```python\n",
    "'BONG!'\n",
    "```\n",
    "Fes servir les funcions `map` i `filter`."
   ]
  },
  {
   "cell_type": "code",
   "execution_count": null,
   "id": "a949b3f3-a22c-4d14-82ed-e72208cc3f36",
   "metadata": {},
   "outputs": [],
   "source": [
    "my_list = [12, None, True, False, None, 'ding', False,\n",
    "           '-0.1', None, 0, 'Tinc', False, None]\n",
    "\n",
    "# escriu el teu codi aquí"
   ]
  },
  {
   "cell_type": "markdown",
   "id": "17d14d4b-caab-4403-91e5-7c0788f1650f",
   "metadata": {
    "tags": []
   },
   "source": [
    "<h2> Map + Reduce </h2>"
   ]
  },
  {
   "cell_type": "markdown",
   "id": "bf7c2f22-cf2f-4e32-acaa-c50982427ec0",
   "metadata": {},
   "source": [
    "#### Quant val *abcd*?\n",
    "\n",
    "Multiplica el valor ASCII de cada caràcter de la string `abcd` i guarda el resultat en una variable. Imprimeix aquesta variable. Quin número obtens? Fes servir les funcions `ord`, `map`, `reduce` i la funció `multiply` que has definit a l'exercici **Factorial**."
   ]
  },
  {
   "cell_type": "code",
   "execution_count": null,
   "id": "2722dbe5-ed1b-4b67-a9a4-b829f9f01ab5",
   "metadata": {},
   "outputs": [],
   "source": [
    "abcd = 'abcd'\n",
    "\n",
    "# escriu el teu codi aquí"
   ]
  },
  {
   "cell_type": "markdown",
   "id": "1d7ec197-84b6-4615-895c-3b504aa2b5e9",
   "metadata": {
    "tags": []
   },
   "source": [
    "<h2> Filter + Reduce </h2>"
   ]
  },
  {
   "cell_type": "markdown",
   "id": "3a57c9e2-c74d-43d4-9bef-ececc412e0a9",
   "metadata": {
    "tags": []
   },
   "source": [
    "#### String més llarga\n",
    "\n",
    "Defineix una funció anomenada `longest_string` que rebi d'entrada una llista. Els elements d'aquesta llista poden ser de qualsevol tipus. `longest_string` ha de retornar la string més llarga d'aquesta llista. En cas que la llista d'entrada no tingui cap string, `longest_string` ha de retornar una string builda (`''`). Fes servir les funcions `filter` i `reduce`."
   ]
  },
  {
   "cell_type": "code",
   "execution_count": null,
   "id": "bea2b52d-e61d-4cbe-873d-445c6110be7d",
   "metadata": {},
   "outputs": [],
   "source": [
    "my_list_1 = ['sumstring', 4, None, 'aaa', 'Siyahamba', 'queno',\n",
    "            'Mitochondria', True, 'llapis', 1.2, 'oh', 'com']\n",
    "my_list_2 = [1, 1, 1, 1, 0, 0, 0, 10, 11]\n",
    "\n",
    "# escriu el teu codi aquí"
   ]
  },
  {
   "cell_type": "markdown",
   "id": "bc7aebdf-a131-4753-a250-d1fad516a214",
   "metadata": {},
   "source": [
    "<h3> Extra (opcional, per practicar) </h3>\n",
    "\n",
    "- Afegeix typing a les funcions que has definit\n",
    "- Soluciona tots els exercicis anteriors fent servir list comprehension"
   ]
  }
 ],
 "metadata": {
  "kernelspec": {
   "display_name": "Python 3 (ipykernel)",
   "language": "python",
   "name": "python3"
  },
  "language_info": {
   "codemirror_mode": {
    "name": "ipython",
    "version": 3
   },
   "file_extension": ".py",
   "mimetype": "text/x-python",
   "name": "python",
   "nbconvert_exporter": "python",
   "pygments_lexer": "ipython3",
   "version": "3.8.10"
  }
 },
 "nbformat": 4,
 "nbformat_minor": 5
}
